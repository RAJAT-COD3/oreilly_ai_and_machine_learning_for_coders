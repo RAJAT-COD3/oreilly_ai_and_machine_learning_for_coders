{
  "nbformat": 4,
  "nbformat_minor": 0,
  "metadata": {
    "colab": {
      "provenance": [],
      "authorship_tag": "ABX9TyMdXxQr5uE3+exClL6CIi7X",
      "include_colab_link": true
    },
    "kernelspec": {
      "name": "python3",
      "display_name": "Python 3"
    },
    "language_info": {
      "name": "python"
    }
  },
  "cells": [
    {
      "cell_type": "markdown",
      "metadata": {
        "id": "view-in-github",
        "colab_type": "text"
      },
      "source": [
        "<a href=\"https://colab.research.google.com/github/RAJAT-CODE3/oreilly_ai_and_machine_learning_for_coders/blob/main/chapter2.ipynb\" target=\"_parent\"><img src=\"https://colab.research.google.com/assets/colab-badge.svg\" alt=\"Open In Colab\"/></a>"
      ]
    },
    {
      "cell_type": "code",
      "execution_count": 42,
      "metadata": {
        "id": "TZ2LyRd21cSp"
      },
      "outputs": [],
      "source": [
        "import tensorflow as tf\n",
        "data = tf.keras.datasets.fashion_mnist"
      ]
    },
    {
      "cell_type": "code",
      "source": [
        "(training_images  ,training_labels) , (test_images  ,test_labels)  = data.load_data()\n"
      ],
      "metadata": {
        "id": "_aVG15HsxLOB"
      },
      "execution_count": 43,
      "outputs": []
    },
    {
      "cell_type": "code",
      "source": [
        "training_images = training_images/255.0\n",
        "test_images = test_images/255.0\n"
      ],
      "metadata": {
        "id": "G3iDJAI6yAlR"
      },
      "execution_count": 44,
      "outputs": []
    },
    {
      "cell_type": "code",
      "source": [
        "model = tf.keras.models.Sequential([\n",
        "    tf.keras.layers.Flatten(input_shape =(28,28)),\n",
        "    tf.keras.layers.Dense(128 , activation = tf.nn.relu),\n",
        "    tf.keras.layers.Dense(10, activation = tf.nn.softmax)\n",
        "\n",
        "])"
      ],
      "metadata": {
        "id": "9_iCqzAcyLaa"
      },
      "execution_count": 24,
      "outputs": []
    },
    {
      "cell_type": "code",
      "source": [
        "model.compile(optimizer = 'adam',\n",
        "              loss = 'sparse_categorical_crossentropy',\n",
        "              metrics = ['accuracy'])"
      ],
      "metadata": {
        "id": "Lsq-b-1wy_S-"
      },
      "execution_count": 25,
      "outputs": []
    },
    {
      "cell_type": "code",
      "source": [
        "model.fit(training_images , training_labels ,epochs = 5)"
      ],
      "metadata": {
        "colab": {
          "base_uri": "https://localhost:8080/"
        },
        "id": "PoKp9I5X1kJ2",
        "outputId": "9b79c415-b849-428b-9c94-0423a9210766"
      },
      "execution_count": 26,
      "outputs": [
        {
          "output_type": "stream",
          "name": "stdout",
          "text": [
            "Epoch 1/5\n",
            "1875/1875 [==============================] - 8s 4ms/step - loss: 0.4989 - accuracy: 0.8253\n",
            "Epoch 2/5\n",
            "1875/1875 [==============================] - 8s 4ms/step - loss: 0.3782 - accuracy: 0.8643\n",
            "Epoch 3/5\n",
            "1875/1875 [==============================] - 8s 4ms/step - loss: 0.3383 - accuracy: 0.8769\n",
            "Epoch 4/5\n",
            "1875/1875 [==============================] - 7s 4ms/step - loss: 0.3137 - accuracy: 0.8855\n",
            "Epoch 5/5\n",
            "1875/1875 [==============================] - 8s 4ms/step - loss: 0.2943 - accuracy: 0.8923\n"
          ]
        },
        {
          "output_type": "execute_result",
          "data": {
            "text/plain": [
              "<keras.callbacks.History at 0x7f90e710fd30>"
            ]
          },
          "metadata": {},
          "execution_count": 26
        }
      ]
    },
    {
      "cell_type": "code",
      "source": [
        "model.evaluate(test_images , test_labels)"
      ],
      "metadata": {
        "colab": {
          "base_uri": "https://localhost:8080/"
        },
        "id": "wGlHXfnb1794",
        "outputId": "5f1fb6c1-2a67-4d58-9acf-da83ebb7d199"
      },
      "execution_count": 27,
      "outputs": [
        {
          "output_type": "stream",
          "name": "stdout",
          "text": [
            "313/313 [==============================] - 1s 2ms/step - loss: 0.3684 - accuracy: 0.8702\n"
          ]
        },
        {
          "output_type": "execute_result",
          "data": {
            "text/plain": [
              "[0.36841732263565063, 0.870199978351593]"
            ]
          },
          "metadata": {},
          "execution_count": 27
        }
      ]
    },
    {
      "cell_type": "code",
      "source": [
        "classifications = model.predict(test_images)\n",
        "print(classifications[0])\n",
        "print(test_labels[0])"
      ],
      "metadata": {
        "colab": {
          "base_uri": "https://localhost:8080/"
        },
        "id": "ffe1GjlwScHH",
        "outputId": "8637c1f2-e867-4905-e51d-f9d22b7bd32c"
      },
      "execution_count": 28,
      "outputs": [
        {
          "output_type": "stream",
          "name": "stdout",
          "text": [
            "313/313 [==============================] - 1s 2ms/step\n",
            "[5.4274942e-06 1.4975734e-07 1.0853259e-06 1.0371369e-07 7.3041076e-07\n",
            " 2.1715164e-03 5.9786821e-06 1.9086162e-02 7.4365389e-06 9.7872138e-01]\n",
            "9\n"
          ]
        }
      ]
    },
    {
      "cell_type": "markdown",
      "source": [
        "#Training for Longer—Discovering Overtting\n"
      ],
      "metadata": {
        "id": "Z7WPeSZjU0hi"
      }
    },
    {
      "cell_type": "code",
      "source": [
        "model.fit(training_images , training_labels ,epochs = 50)"
      ],
      "metadata": {
        "colab": {
          "base_uri": "https://localhost:8080/"
        },
        "id": "ubVD7iPUS3c_",
        "outputId": "fe0c52f0-d990-41df-ddee-0b3c98dec592"
      },
      "execution_count": 29,
      "outputs": [
        {
          "output_type": "stream",
          "name": "stdout",
          "text": [
            "Epoch 1/50\n",
            "1875/1875 [==============================] - 7s 4ms/step - loss: 0.2815 - accuracy: 0.8968\n",
            "Epoch 2/50\n",
            "1875/1875 [==============================] - 9s 5ms/step - loss: 0.2678 - accuracy: 0.9006\n",
            "Epoch 3/50\n",
            "1875/1875 [==============================] - 9s 5ms/step - loss: 0.2586 - accuracy: 0.9038\n",
            "Epoch 4/50\n",
            "1875/1875 [==============================] - 7s 4ms/step - loss: 0.2470 - accuracy: 0.9074\n",
            "Epoch 5/50\n",
            "1875/1875 [==============================] - 8s 5ms/step - loss: 0.2403 - accuracy: 0.9108\n",
            "Epoch 6/50\n",
            "1875/1875 [==============================] - 9s 5ms/step - loss: 0.2294 - accuracy: 0.9134\n",
            "Epoch 7/50\n",
            "1875/1875 [==============================] - 7s 4ms/step - loss: 0.2219 - accuracy: 0.9179\n",
            "Epoch 8/50\n",
            "1875/1875 [==============================] - 9s 5ms/step - loss: 0.2167 - accuracy: 0.9184\n",
            "Epoch 9/50\n",
            "1875/1875 [==============================] - 8s 4ms/step - loss: 0.2083 - accuracy: 0.9213\n",
            "Epoch 10/50\n",
            "1875/1875 [==============================] - 8s 4ms/step - loss: 0.2039 - accuracy: 0.9232\n",
            "Epoch 11/50\n",
            "1875/1875 [==============================] - 8s 4ms/step - loss: 0.1989 - accuracy: 0.9258\n",
            "Epoch 12/50\n",
            "1875/1875 [==============================] - 7s 4ms/step - loss: 0.1925 - accuracy: 0.9280\n",
            "Epoch 13/50\n",
            "1875/1875 [==============================] - 9s 5ms/step - loss: 0.1862 - accuracy: 0.9297\n",
            "Epoch 14/50\n",
            "1875/1875 [==============================] - 8s 4ms/step - loss: 0.1826 - accuracy: 0.9319\n",
            "Epoch 15/50\n",
            "1875/1875 [==============================] - 7s 4ms/step - loss: 0.1767 - accuracy: 0.9336\n",
            "Epoch 16/50\n",
            "1875/1875 [==============================] - 8s 4ms/step - loss: 0.1738 - accuracy: 0.9344\n",
            "Epoch 17/50\n",
            "1875/1875 [==============================] - 7s 4ms/step - loss: 0.1676 - accuracy: 0.9370\n",
            "Epoch 18/50\n",
            "1875/1875 [==============================] - 8s 4ms/step - loss: 0.1638 - accuracy: 0.9394\n",
            "Epoch 19/50\n",
            "1875/1875 [==============================] - 9s 5ms/step - loss: 0.1607 - accuracy: 0.9395\n",
            "Epoch 20/50\n",
            "1875/1875 [==============================] - 7s 4ms/step - loss: 0.1568 - accuracy: 0.9406\n",
            "Epoch 21/50\n",
            "1875/1875 [==============================] - 8s 5ms/step - loss: 0.1550 - accuracy: 0.9413\n",
            "Epoch 22/50\n",
            "1875/1875 [==============================] - 8s 5ms/step - loss: 0.1482 - accuracy: 0.9435\n",
            "Epoch 23/50\n",
            "1875/1875 [==============================] - 7s 4ms/step - loss: 0.1455 - accuracy: 0.9457\n",
            "Epoch 24/50\n",
            "1875/1875 [==============================] - 8s 4ms/step - loss: 0.1419 - accuracy: 0.9466\n",
            "Epoch 25/50\n",
            "1875/1875 [==============================] - 7s 4ms/step - loss: 0.1399 - accuracy: 0.9473\n",
            "Epoch 26/50\n",
            "1875/1875 [==============================] - 8s 4ms/step - loss: 0.1403 - accuracy: 0.9467\n",
            "Epoch 27/50\n",
            "1875/1875 [==============================] - 8s 4ms/step - loss: 0.1339 - accuracy: 0.9492\n",
            "Epoch 28/50\n",
            "1875/1875 [==============================] - 7s 4ms/step - loss: 0.1310 - accuracy: 0.9507\n",
            "Epoch 29/50\n",
            "1875/1875 [==============================] - 8s 4ms/step - loss: 0.1310 - accuracy: 0.9517\n",
            "Epoch 30/50\n",
            "1875/1875 [==============================] - 7s 4ms/step - loss: 0.1273 - accuracy: 0.9522\n",
            "Epoch 31/50\n",
            "1875/1875 [==============================] - 8s 4ms/step - loss: 0.1254 - accuracy: 0.9524\n",
            "Epoch 32/50\n",
            "1875/1875 [==============================] - 8s 4ms/step - loss: 0.1218 - accuracy: 0.9540\n",
            "Epoch 33/50\n",
            "1875/1875 [==============================] - 7s 4ms/step - loss: 0.1223 - accuracy: 0.9537\n",
            "Epoch 34/50\n",
            "1875/1875 [==============================] - 8s 4ms/step - loss: 0.1181 - accuracy: 0.9557\n",
            "Epoch 35/50\n",
            "1875/1875 [==============================] - 7s 4ms/step - loss: 0.1152 - accuracy: 0.9566\n",
            "Epoch 36/50\n",
            "1875/1875 [==============================] - 8s 4ms/step - loss: 0.1128 - accuracy: 0.9574\n",
            "Epoch 37/50\n",
            "1875/1875 [==============================] - 8s 4ms/step - loss: 0.1091 - accuracy: 0.9592\n",
            "Epoch 38/50\n",
            "1875/1875 [==============================] - 7s 4ms/step - loss: 0.1091 - accuracy: 0.9591\n",
            "Epoch 39/50\n",
            "1875/1875 [==============================] - 8s 4ms/step - loss: 0.1078 - accuracy: 0.9595\n",
            "Epoch 40/50\n",
            "1875/1875 [==============================] - 7s 4ms/step - loss: 0.1042 - accuracy: 0.9606\n",
            "Epoch 41/50\n",
            "1875/1875 [==============================] - 8s 4ms/step - loss: 0.1034 - accuracy: 0.9614\n",
            "Epoch 42/50\n",
            "1875/1875 [==============================] - 8s 4ms/step - loss: 0.1043 - accuracy: 0.9610\n",
            "Epoch 43/50\n",
            "1875/1875 [==============================] - 8s 4ms/step - loss: 0.0997 - accuracy: 0.9624\n",
            "Epoch 44/50\n",
            "1875/1875 [==============================] - 9s 5ms/step - loss: 0.0989 - accuracy: 0.9625\n",
            "Epoch 45/50\n",
            "1875/1875 [==============================] - 7s 4ms/step - loss: 0.0987 - accuracy: 0.9629\n",
            "Epoch 46/50\n",
            "1875/1875 [==============================] - 8s 4ms/step - loss: 0.0950 - accuracy: 0.9648\n",
            "Epoch 47/50\n",
            "1875/1875 [==============================] - 7s 4ms/step - loss: 0.0941 - accuracy: 0.9640\n",
            "Epoch 48/50\n",
            "1875/1875 [==============================] - 8s 4ms/step - loss: 0.0918 - accuracy: 0.9646\n",
            "Epoch 49/50\n",
            "1875/1875 [==============================] - 8s 4ms/step - loss: 0.0890 - accuracy: 0.9665\n",
            "Epoch 50/50\n",
            "1875/1875 [==============================] - 7s 4ms/step - loss: 0.0906 - accuracy: 0.9655\n"
          ]
        },
        {
          "output_type": "execute_result",
          "data": {
            "text/plain": [
              "<keras.callbacks.History at 0x7f90e6684310>"
            ]
          },
          "metadata": {},
          "execution_count": 29
        }
      ]
    },
    {
      "cell_type": "code",
      "source": [
        "model.evaluate(test_images , test_labels)"
      ],
      "metadata": {
        "colab": {
          "base_uri": "https://localhost:8080/"
        },
        "id": "f4Je0qBYTECj",
        "outputId": "2f46f095-4829-4aa6-ca44-a7342b9c8261"
      },
      "execution_count": 30,
      "outputs": [
        {
          "output_type": "stream",
          "name": "stdout",
          "text": [
            "313/313 [==============================] - 1s 2ms/step - loss: 0.5393 - accuracy: 0.8843\n"
          ]
        },
        {
          "output_type": "execute_result",
          "data": {
            "text/plain": [
              "[0.5392890572547913, 0.8842999935150146]"
            ]
          },
          "metadata": {},
          "execution_count": 30
        }
      ]
    },
    {
      "cell_type": "code",
      "source": [
        "classifications = model.predict(test_images)\n",
        "print(classifications[0])\n",
        "print(test_labels[0])"
      ],
      "metadata": {
        "colab": {
          "base_uri": "https://localhost:8080/"
        },
        "id": "zsAg5yetgJY3",
        "outputId": "fe5e1a68-e19f-4391-a82a-8ac13e320312"
      },
      "execution_count": 31,
      "outputs": [
        {
          "output_type": "stream",
          "name": "stdout",
          "text": [
            "313/313 [==============================] - 1s 3ms/step\n",
            "[1.1775559e-13 1.3819828e-24 1.6313701e-17 3.1675546e-25 6.8097879e-15\n",
            " 2.0246141e-07 6.7496474e-18 3.7566866e-07 4.6120344e-18 9.9999934e-01]\n",
            "9\n"
          ]
        }
      ]
    },
    {
      "cell_type": "markdown",
      "source": [
        "#Stopping training\n"
      ],
      "metadata": {
        "id": "lB6O3nvSgTRd"
      }
    },
    {
      "cell_type": "code",
      "source": [
        "class myCallback(tf.keras.callbacks.Callback):\n",
        " def on_epoch_end(self, epoch, logs={}):\n",
        "  if(logs.get('accuracy')>0.95):\n",
        "    print(\"\\nReached 95% accuracy so cancelling training!\")\n",
        "    self.model.stop_training = True"
      ],
      "metadata": {
        "id": "LibpvoGYgSpJ"
      },
      "execution_count": 33,
      "outputs": []
    },
    {
      "cell_type": "code",
      "source": [
        "callbacks = myCallback()\n",
        "mnist = tf.keras.datasets.fashion_mnist\n"
      ],
      "metadata": {
        "id": "FHeJbhIqgOX4"
      },
      "execution_count": 34,
      "outputs": []
    },
    {
      "cell_type": "code",
      "source": [
        "(training_images, training_labels),\n",
        "(test_images, test_labels) = mnist.load_data()"
      ],
      "metadata": {
        "id": "GGHZJZu4grre"
      },
      "execution_count": 35,
      "outputs": []
    },
    {
      "cell_type": "code",
      "source": [
        "# training_images=training_images/255.0\n",
        "# test_images=test_images/255.0\n",
        "## DID IT BEFORE SO commented it out."
      ],
      "metadata": {
        "id": "ptPu72HXgxCt"
      },
      "execution_count": 40,
      "outputs": []
    },
    {
      "cell_type": "code",
      "source": [
        "model = tf.keras.models.Sequential([\n",
        "    tf.keras.layers.Flatten(input_shape =(28,28)),\n",
        "    tf.keras.layers.Dense(128 , activation = tf.nn.relu),\n",
        "    tf.keras.layers.Dense(10, activation = tf.nn.softmax)\n",
        "\n",
        "])"
      ],
      "metadata": {
        "id": "HG1S1EG_g0HQ"
      },
      "execution_count": 45,
      "outputs": []
    },
    {
      "cell_type": "code",
      "source": [
        "model.compile(optimizer = 'adam',\n",
        "              loss = 'sparse_categorical_crossentropy',\n",
        "              metrics = ['accuracy'])"
      ],
      "metadata": {
        "id": "xjM9q9pbh8N-"
      },
      "execution_count": 46,
      "outputs": []
    },
    {
      "cell_type": "code",
      "source": [
        "model.fit(training_images , training_labels ,epochs = 50,\n",
        "          callbacks  = [callbacks])"
      ],
      "metadata": {
        "colab": {
          "base_uri": "https://localhost:8080/"
        },
        "id": "ZihTYZ07h_Xc",
        "outputId": "90da8c50-8bdb-4608-a357-83f9e0848ed7"
      },
      "execution_count": 48,
      "outputs": [
        {
          "output_type": "stream",
          "name": "stdout",
          "text": [
            "Epoch 1/50\n",
            "1875/1875 [==============================] - 8s 4ms/step - loss: 0.2445 - accuracy: 0.9097\n",
            "Epoch 2/50\n",
            "1875/1875 [==============================] - 9s 5ms/step - loss: 0.2355 - accuracy: 0.9123\n",
            "Epoch 3/50\n",
            "1875/1875 [==============================] - 9s 5ms/step - loss: 0.2269 - accuracy: 0.9142\n",
            "Epoch 4/50\n",
            "1875/1875 [==============================] - 8s 4ms/step - loss: 0.2189 - accuracy: 0.9185\n",
            "Epoch 5/50\n",
            "1875/1875 [==============================] - 8s 5ms/step - loss: 0.2111 - accuracy: 0.9215\n",
            "Epoch 6/50\n",
            "1875/1875 [==============================] - 9s 5ms/step - loss: 0.2055 - accuracy: 0.9232\n",
            "Epoch 7/50\n",
            "1875/1875 [==============================] - 8s 4ms/step - loss: 0.1995 - accuracy: 0.9254\n",
            "Epoch 8/50\n",
            "1875/1875 [==============================] - 9s 5ms/step - loss: 0.1932 - accuracy: 0.9266\n",
            "Epoch 9/50\n",
            "1875/1875 [==============================] - 10s 5ms/step - loss: 0.1884 - accuracy: 0.9292\n",
            "Epoch 10/50\n",
            "1875/1875 [==============================] - 10s 5ms/step - loss: 0.1839 - accuracy: 0.9314\n",
            "Epoch 11/50\n",
            "1875/1875 [==============================] - 8s 4ms/step - loss: 0.1789 - accuracy: 0.9330\n",
            "Epoch 12/50\n",
            "1875/1875 [==============================] - 9s 5ms/step - loss: 0.1736 - accuracy: 0.9351\n",
            "Epoch 13/50\n",
            "1875/1875 [==============================] - 9s 5ms/step - loss: 0.1702 - accuracy: 0.9359\n",
            "Epoch 14/50\n",
            "1875/1875 [==============================] - 8s 4ms/step - loss: 0.1663 - accuracy: 0.9378\n",
            "Epoch 15/50\n",
            "1875/1875 [==============================] - 9s 5ms/step - loss: 0.1621 - accuracy: 0.9391\n",
            "Epoch 16/50\n",
            "1875/1875 [==============================] - 9s 5ms/step - loss: 0.1587 - accuracy: 0.9403\n",
            "Epoch 17/50\n",
            "1875/1875 [==============================] - 8s 4ms/step - loss: 0.1552 - accuracy: 0.9416\n",
            "Epoch 18/50\n",
            "1875/1875 [==============================] - 9s 5ms/step - loss: 0.1506 - accuracy: 0.9441\n",
            "Epoch 19/50\n",
            "1875/1875 [==============================] - 9s 5ms/step - loss: 0.1487 - accuracy: 0.9439\n",
            "Epoch 20/50\n",
            "1875/1875 [==============================] - 9s 5ms/step - loss: 0.1451 - accuracy: 0.9456\n",
            "Epoch 21/50\n",
            "1875/1875 [==============================] - 9s 5ms/step - loss: 0.1411 - accuracy: 0.9474\n",
            "Epoch 22/50\n",
            "1875/1875 [==============================] - 9s 5ms/step - loss: 0.1380 - accuracy: 0.9481\n",
            "Epoch 23/50\n",
            "1875/1875 [==============================] - 8s 4ms/step - loss: 0.1358 - accuracy: 0.9496\n",
            "Epoch 24/50\n",
            "1875/1875 [==============================] - 9s 5ms/step - loss: 0.1332 - accuracy: 0.9497\n",
            "Epoch 25/50\n",
            "1864/1875 [============================>.] - ETA: 0s - loss: 0.1299 - accuracy: 0.9504\n",
            "Reached 95% accuracy so cancelling training!\n",
            "1875/1875 [==============================] - 9s 5ms/step - loss: 0.1297 - accuracy: 0.9506\n"
          ]
        },
        {
          "output_type": "execute_result",
          "data": {
            "text/plain": [
              "<keras.callbacks.History at 0x7f90e645f910>"
            ]
          },
          "metadata": {},
          "execution_count": 48
        }
      ]
    },
    {
      "cell_type": "code",
      "source": [],
      "metadata": {
        "id": "ZiRl3oq6iCW5"
      },
      "execution_count": null,
      "outputs": []
    }
  ]
}